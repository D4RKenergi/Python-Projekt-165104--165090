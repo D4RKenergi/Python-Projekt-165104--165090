{
 "cells": [
  {
   "cell_type": "code",
   "execution_count": 2,
   "metadata": {},
   "outputs": [],
   "source": [
    "import pathlib\n",
    "from mpl_toolkits import mplot3d\n",
    "import numpy as np\n",
    "import matplotlib.pyplot as plt\n",
    "import glob, os"
   ]
  },
  {
   "cell_type": "code",
   "execution_count": 26,
   "metadata": {},
   "outputs": [],
   "source": [
    "x = [10, 25, 50, 100, 150, 200, 250, 300, 400, 500, 600, 700, 800]\n",
    "y = [0.25, 0.5, 0.75, 1, 2, 3, 4, 5, 6, 8, 10, 12]\n",
    "X, Y = np.meshgrid(x, y)\n",
    "Z = np.zeros((12, 13))\n",
    "for i, xi in enumerate(x):\n",
    "    for j, yj in enumerate(y):\n",
    "        for file in glob.glob(str(pathlib.Path().resolve()) + \"/Output/30/weights \" + str(xi) + \" - 30 v3 B\" + str(yj) + \" acc*.npy\"):\n",
    "            #print(\"X\" + str(xi) + \" Y\" + str(yj) + \" \" + file.split(\"acc\")[1].split(\".npy\")[0])\n",
    "            Z[j, i] = float(file.split(\"acc\")[1].split(\".npy\")[0])\n",
    "Z *= 100\n",
    "#print(Z)"
   ]
  },
  {
   "cell_type": "code",
   "execution_count": 27,
   "metadata": {},
   "outputs": [],
   "source": [
    "%matplotlib qt\n",
    "fig = plt.figure()\n",
    "ax = plt.axes(projection='3d')\n",
    "ax.set_xlabel('centroidy')\n",
    "ax.set_ylabel('$\\\\beta$')\n",
    "ax.set_title(\"Poprawnosć klasyfikacji\")\n",
    "ax.set_zlabel('dokładność (%)', rotation=-90)\n",
    "ax.plot_wireframe(X, Y, Z, edgecolor='black')\n",
    "plt.show()"
   ]
  },
  {
   "cell_type": "code",
   "execution_count": 4,
   "metadata": {},
   "outputs": [],
   "source": [
    "x1 = np.linspace(-10, 10, 1000)\n",
    "y1 = np.exp(-(x1**2) / (2*5**2))\n",
    "fig, ax = plt.subplots()\n",
    "ax.plot(x1, y1)\n",
    "plt.ylabel('Y', rotation=0)\n",
    "plt.ylim([-0.05, 1.05])\n",
    "ax.set(xlabel='X', title='$\\\\beta$ = 10')\n",
    "ax.grid()\n",
    "plt.show()"
   ]
  },
  {
   "cell_type": "code",
   "execution_count": 10,
   "metadata": {},
   "outputs": [],
   "source": [
    "%matplotlib qt\n",
    "acc_table = np.load(str(pathlib.Path().resolve()) + \"/Output/30/acc_table 800 - 30 v3 B6.npy\")\n",
    "labels = '0123456789ABCDEFGHIJKLMNOPQRSTUVWXYZabdefghnqrt'\n",
    "\n",
    "fig, ax = plt.subplots()\n",
    "im = ax.imshow(acc_table)\n",
    "\n",
    "# Show all ticks and label them with the respective list entries\n",
    "ax.set_xticks(np.arange(len(labels)), labels=labels)\n",
    "ax.set_yticks(np.arange(len(labels)), labels=labels)\n",
    "\n",
    "# Rotate the tick labels and set their alignment.\n",
    "plt.setp(ax.get_xticklabels(), rotation=0, ha=\"right\",\n",
    "         rotation_mode=\"anchor\")\n",
    "\n",
    "# Loop over data dimensions and create text annotations.\n",
    "for i in range(len(labels)):\n",
    "    for j in range(len(labels)):\n",
    "        text = ax.text(j, i, round(acc_table[i, j]),\n",
    "                       ha=\"center\", va=\"center\", color=\"w\")\n",
    "\n",
    "ax.set_title(\"Tabela klasyfikacji\")\n",
    "fig.tight_layout()\n",
    "plt.show()\n"
   ]
  }
 ],
 "metadata": {
  "interpreter": {
   "hash": "08ea19b140cbdd52ac91fe822a0c8ee463b3f69176f3ca6c81bf44ee80103b4c"
  },
  "kernelspec": {
   "display_name": "Python 3.10.3 64-bit",
   "language": "python",
   "name": "python3"
  },
  "language_info": {
   "codemirror_mode": {
    "name": "ipython",
    "version": 3
   },
   "file_extension": ".py",
   "mimetype": "text/x-python",
   "name": "python",
   "nbconvert_exporter": "python",
   "pygments_lexer": "ipython3",
   "version": "3.10.3"
  },
  "orig_nbformat": 4
 },
 "nbformat": 4,
 "nbformat_minor": 2
}
